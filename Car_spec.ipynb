{
  "nbformat": 4,
  "nbformat_minor": 0,
  "metadata": {
    "colab": {
      "provenance": [],
      "gpuType": "T4",
      "mount_file_id": "19b3-n6w5hfS_vLrLZsen1LwBguuF0b9A",
      "authorship_tag": "ABX9TyPVSNEs6gDigZA4QFiNNq5e",
      "include_colab_link": true
    },
    "kernelspec": {
      "name": "python3",
      "display_name": "Python 3"
    },
    "language_info": {
      "name": "python"
    }
  },
  "cells": [
    {
      "cell_type": "markdown",
      "metadata": {
        "id": "view-in-github",
        "colab_type": "text"
      },
      "source": [
        "<a href=\"https://colab.research.google.com/github/Saloni1707/Car_Racing/blob/main/Car_spec.ipynb\" target=\"_parent\"><img src=\"https://colab.research.google.com/assets/colab-badge.svg\" alt=\"Open In Colab\"/></a>"
      ]
    },
    {
      "cell_type": "code",
      "execution_count": 2,
      "metadata": {
        "id": "CiQUkAYjyWpB"
      },
      "outputs": [],
      "source": [
        "import math\n",
        "import random\n",
        "from dataclasses import dataclass\n",
        "from typing import List,Tuple,Optional\n",
        "import numpy as np\n",
        "import matplotlib.pyplot as plt\n",
        "from matplotlib.patches import Rectangle,Circle\n",
        "import matplotlib.animation as animation\n",
        "import torch\n",
        "import torch.nn as nn\n",
        "import torch.optim as optim\n",
        "import torch.nn.functional as F\n",
        "from torch.distributions import Normal\n",
        "from collections import deque\n",
        "import time"
      ]
    },
    {
      "cell_type": "code",
      "source": [
        "#basic math\n",
        "@dataclass\n",
        "class Vector2D:\n",
        "  x:float\n",
        "  y:float\n",
        "  def __add__(self,other):\n",
        "    return Vector2D(self.x+other.x,self.y+other.y)\n",
        "  def __sub__(self,other):\n",
        "    return Vector2D(self.x-other.x,self.y-other.y)\n",
        "  def __mul__(self,scalar):\n",
        "    return Vector2D(self.x*scalar,self.y*scalar)\n",
        "  def magnitude(self):\n",
        "    return math.sqrt(self.x**2+self.y**2)\n",
        "  def normalize(self):\n",
        "    mag = self.magnitude()\n",
        "    if mag == 0:\n",
        "      return Vector2D(0,0)\n",
        "    return Vector2D(self.x/mag,self.y/mag)\n",
        "  def rotate(self,angle_rad:float):\n",
        "    cos_a=math.cos(angle_rad)\n",
        "    sin_a=math.sin(angle_rad)\n",
        "    return Vector2D(\n",
        "        self.x*cos_a-self.y*sin_a,\n",
        "        self.x*sin_a + self.y*cos_a\n",
        "    )\n",
        "    def to_array(self):\n",
        "      return np.array([self.x,self.y])\n",
        "print(\"Vector Math Test\")\n",
        "v1=Vector2D(1,0)\n",
        "v2=v1.rotate(math.pi/2)\n",
        "print(f\"Orginal:({v1.x:.2f},{v1.y:.2f})\")\n",
        "print(f\"Rotated:({v2.x:.2f},{v2.y:.2f})\")\n",
        "print(f\"Magnitude: {v1.magnitude():.2f}\")\n"
      ],
      "metadata": {
        "colab": {
          "base_uri": "https://localhost:8080/"
        },
        "id": "Xb8inS2ZM8Gz",
        "outputId": "71c1b3a8-39ba-4176-c6f7-9fa091cf8017"
      },
      "execution_count": null,
      "outputs": [
        {
          "output_type": "stream",
          "name": "stdout",
          "text": [
            "Vector Math Test\n",
            "Orginal:(1.00,0.00)\n",
            "Rotated:(0.00,1.00)\n",
            "Magnitude: 1.00\n"
          ]
        }
      ]
    },
    {
      "cell_type": "code",
      "source": [
        "#car physics here\n",
        "@dataclass\n",
        "class Car:\n",
        "  def __init__(self,x:float,y:float,angle:float):\n",
        "    self.position=Vector2D(x,y)\n",
        "    self.angle=angle\n",
        "    self.velocity=Vector2D(0,0)\n",
        "    self.speed=0\n",
        "    self.angular_velocity=0\n",
        "    self.max_speed = 50.0 #pixels/second\n",
        "    self.max_reverse_speed=-20.0\n",
        "    self.acceleration=30.0\n",
        "    self.deceleration=50.0\n",
        "    self.turn_speed=3.0\n",
        "    self.width=20\n",
        "    self.length=40\n",
        "    self.sensor_ranges=[]\n",
        "\n",
        "  def update(self,dt:float,throttle:float,steering:float):\n",
        "    throttle=max(-1,min(1,throttle))\n",
        "    steering=max(-1,min(1,steering))\n",
        "    if throttle>0: #here based on throttle inc speed\n",
        "      self.speed+=self.acceleration*throttle*dt\n",
        "      self.speed=min(self.speed,self.max_speed)\n",
        "    elif throttle<0:\n",
        "      self.speed+=self.acceleration*throttle*dt\n",
        "      self.speed=max(self.speed,self.max_reverse_speed)\n",
        "    else:\n",
        "      if self.speed>0:\n",
        "        self.speed=max(0,self.speed-self.deceleration*dt)\n",
        "      else:\n",
        "        self.speed=min(0,self.speed+self.deceleration*dt)\n",
        "\n",
        "    if abs(self.speed) > 0.1:  # Only turn when moving\n",
        "        self.angular_velocity = steering * self.turn_speed * (self.speed / self.max_speed)\n",
        "        self.angle += self.angular_velocity * dt\n",
        "        self.angle = self.angle % (2 * math.pi)  # Keep angle in [0, 2π]\n",
        "    direction = Vector2D(math.cos(self.angle), math.sin(self.angle))\n",
        "    velocity = direction * self.speed\n",
        "    self.position = self.position + velocity * dt\n",
        "    self.velocity = velocity\n",
        "\n",
        "  def get_state(self):\n",
        "    return np.array([\n",
        "        self.position.x,self.position.y,\n",
        "        self.velocity.x,self.velocity.y,\n",
        "        self.angle,self.angular_velocity,\n",
        "        self.speed\n",
        "    ])\n",
        "  def reset(self,x:float,y:float,angle:float):\n",
        "    self.position=Vector2D(x,y)\n",
        "    self.angle=angle\n",
        "    self.velocity=Vector2D(0,0)\n",
        "    self.speed=0\n",
        "    self.angular_velocity=0\n",
        "\n",
        "print(\"Car Simulation\")\n",
        "my_car = Car(0, 0, 0)\n",
        "print(f\"Initial State: {my_car.get_state()}\")\n",
        "for i in range(10):\n",
        "    my_car.update(dt=0.1, throttle=0.5, steering=0)  # Half throttle, no steering\n",
        "\n",
        "print(f\"After 1s straight: Position({my_car.position.x:.1f}, {my_car.position.y:.1f}), Speed: {my_car.speed:.1f}\")\n",
        "\n",
        "for i in range(10):\n",
        "    my_car.update(dt=0.1, throttle=0.5, steering=0.5)\n",
        "\n",
        "print(f\"After turning: Position({my_car.position.x:.1f}, {my_car.position.y:.1f}), Angle: {math.degrees(my_car.angle):.1f}°\")\n",
        "print()"
      ],
      "metadata": {
        "colab": {
          "base_uri": "https://localhost:8080/"
        },
        "id": "c4jUwVgFVBKv",
        "outputId": "687ee4e9-91bd-48ba-8fe1-539544d6184f"
      },
      "execution_count": null,
      "outputs": [
        {
          "output_type": "stream",
          "name": "stdout",
          "text": [
            "Car Simulation\n",
            "Initial State: [0 0 0 0 0 0 0]\n",
            "After 1s straight: Position(8.2, 0.0), Speed: 15.0\n",
            "After turning: Position(29.3, 8.5), Angle: 40.0°\n",
            "\n"
          ]
        }
      ]
    },
    {
      "cell_type": "code",
      "source": [
        "#Our environment\n",
        "@dataclass\n",
        "class Environment:\n",
        "  def __init__(self,width:int,height:int):\n",
        "    self.width=width\n",
        "    self.height=height\n",
        "    self.obstacles=[]\n",
        "    self.boundary=[]\n",
        "    self.create_track()\n",
        "\n",
        "  def create_track(self):\n",
        "    margin=50\n",
        "    self.boundary=[\n",
        "        {\"start\":Vector2D(0,0),\"end\":Vector2D(self.width,0)}, #outer boundary top wall\n",
        "        {\"start\":Vector2D(0,self.height),\"end\":Vector2D(self.width,self.height)}, #bottom wall\n",
        "        {\"start\":Vector2D(0,0),\"end\":Vector2D(0,self.height)},#left wall\n",
        "        {\"start\":Vector2D(self.width,0),\"end\":Vector2D(self.width,self.height)},#right wall\n",
        "\n",
        "        {'start': Vector2D(margin, margin), 'end': Vector2D(self.width-margin, margin)},#Inner boundary box\n",
        "        {'start': Vector2D(margin, self.height-margin), 'end': Vector2D(self.width-margin, self.height-margin)},\n",
        "        {'start': Vector2D(margin, margin), 'end': Vector2D(margin, self.height-margin)},\n",
        "        {'start': Vector2D(self.width-margin, margin), 'end': Vector2D(self.width-margin, self.height-margin)},\n",
        "\n",
        "    ]\n",
        "\n",
        "\n",
        "  def is_collision(self,position:Vector2D,car_width:float=20,car_length=40):\n",
        "    margin=max(car_width,car_length)/2\n",
        "    if(position.x<margin or position.x>self.width-margin or position.y<margin or position.y>self.height-margin):\n",
        "      return True\n",
        "    return False\n",
        "\n",
        "  def get_track_distance(self,position:Vector2D):\n",
        "    distances=[]\n",
        "    distances.append(position.x)\n",
        "    distances.append(self.width-position.x)\n",
        "    distances.append(position.y)\n",
        "    distances.append(self.height-position.y)\n",
        "    return min(distances)\n",
        "\n",
        "  def get_start_position(self):\n",
        "    margin=50\n",
        "    start_x=margin+30\n",
        "    start_y=(self.height)//2\n",
        "    start_angle=0\n",
        "    start_position=Vector2D(start_x,start_y)\n",
        "    return start_position,start_angle\n",
        "\n",
        "  def get_track_boundaries(self):\n",
        "    margin=50\n",
        "    left_boundary=[\n",
        "        Vector2D(0,0),\n",
        "        Vector2D(0,self.height),\n",
        "        Vector2D(margin,self.height-margin),\n",
        "        Vector2D(margin,margin),\n",
        "        Vector2D(0,0)\n",
        "    ]\n",
        "    right_boundary = [\n",
        "        Vector2D(self.width, 0),\n",
        "        Vector2D(self.width, self.height),\n",
        "        Vector2D(self.width - margin, self.height - margin),\n",
        "        Vector2D(self.width - margin, margin),\n",
        "        Vector2D(self.width, 0)\n",
        "    ]\n",
        "    return left_boundary,right_boundary\n",
        "\n",
        "\n",
        "print(\"Test Environment\")\n",
        "env=Environment(width=800, height=600)\n",
        "test_pos=Vector2D(100,100)\n",
        "print(f\"Position ({test_pos.x}, {test_pos.y}):\")\n",
        "print(f\"Collision: {env.is_collision(test_pos)}\")\n",
        "print(f\"Distance to boundary: {env.get_track_distance(test_pos):.1f}\")\n",
        "print()"
      ],
      "metadata": {
        "colab": {
          "base_uri": "https://localhost:8080/"
        },
        "id": "Qw6hrSIgve_X",
        "outputId": "a3a6447a-b772-4170-a6fb-66cb3912fd31"
      },
      "execution_count": null,
      "outputs": [
        {
          "output_type": "stream",
          "name": "stdout",
          "text": [
            "Test Environment\n",
            "Position (100, 100):\n",
            "Collision: False\n",
            "Distance to boundary: 100.0\n",
            "\n"
          ]
        }
      ]
    },
    {
      "cell_type": "code",
      "source": [
        "class CarWithSensors(Car):\n",
        "  def __init__(self,x:float=0,y:float=0,angle:float=0):\n",
        "    super().__init__(x,y,angle)\n",
        "    self.num_sensors=8\n",
        "    self.sensor_range=100\n",
        "    self.sensor_angles=[]\n",
        "    self.sensor_readings=[]\n",
        "\n",
        "    for i in range(self.num_sensors):\n",
        "      angle_offset = (i-self.num_sensors/2 + 0.5)*(180/self.num_sensors) #this is the sensor in front of car\n",
        "      self.sensor_angles.append(math.radians(angle_offset))\n",
        "    print(\"This is the angle\",self.sensor_angles)\n",
        "\n",
        "  def update_sensors(self,Environment):\n",
        "    self.sensor_readings=[]#Based on our env we update sensor readings here\n",
        "\n",
        "    for sensor_angle in self.sensor_angles:\n",
        "      world_angle=self.angle+sensor_angle\n",
        "      ray_dx=math.cos(world_angle)\n",
        "      ray_dy=math.sin(world_angle)#ray directions of our sensors\n",
        "\n",
        "      distance=self.cast_ray(ray_dx,ray_dy,Environment)\n",
        "      self.sensor_readings.append(distance)\n",
        "\n",
        "  def cast_ray(self,dx:float,dy:float,Environment):\n",
        "    step_size=2\n",
        "    max_steps=int(self.sensor_range/step_size)\n",
        "\n",
        "    for step in range(max_steps):\n",
        "      ray_x=self.position.x+dx*step*step_size\n",
        "      ray_y=self.position.y+dy*step*step_size\n",
        "      ray_pos = Vector2D(ray_x,ray_y) #chk if ray hit the boundary\n",
        "      if Environment.is_collision(ray_pos,car_width=1):\n",
        "        return step*step_size\n",
        "\n",
        "    return self.sensor_range #ray didn't hit anything all good\n",
        "\n",
        "  def get_sensor_state(self):\n",
        "    normalized_readings=[reading/self.sensor_range for reading in self.sensor_readings]\n",
        "    return np.array(normalized_readings)\n",
        "\n",
        "  def get_full_state(self):\n",
        "    car_state=super().get_state()\n",
        "    sensor_state=self.get_sensor_state()\n",
        "    return np.concatenate([car_state,sensor_state])\n",
        "\n",
        "print(\"Sensor with car test\")\n",
        "env=Environment(width=800,height=600)\n",
        "sensor_car=CarWithSensors(100,300,0)\n",
        "sensor_car.update_sensors(env)\n",
        "print(f\"Sensor Readings: {sensor_car.sensor_readings}\")\n",
        "print(f\"Sensor State: {sensor_car.get_sensor_state()}\")\n"
      ],
      "metadata": {
        "id": "PqSvkUMMu2QM",
        "colab": {
          "base_uri": "https://localhost:8080/"
        },
        "outputId": "3d76a1f1-05e4-4244-fe71-c6c6b1ad07c3"
      },
      "execution_count": null,
      "outputs": [
        {
          "output_type": "stream",
          "name": "stdout",
          "text": [
            "Sensor with car test\n",
            "This is the angle [-1.3744467859455345, -0.9817477042468103, -0.5890486225480862, -0.19634954084936207, 0.19634954084936207, 0.5890486225480862, 0.9817477042468103, 1.3744467859455345]\n",
            "Sensor Readings: [100, 100, 100, 100, 100, 100, 100, 100]\n",
            "Sensor State: [1. 1. 1. 1. 1. 1. 1. 1.]\n"
          ]
        }
      ]
    },
    {
      "cell_type": "code",
      "source": [
        "class ImprovedDQN(nn.Module):\n",
        "  def __init__(self,state_size,action_size,hidden_dim=256):\n",
        "    super(ImprovedDQN,self).__init()\n",
        "    self.network=nn.sequential(\n",
        "        nn.Linear(state_size,hidden_dim),\n",
        "        nn.RELU(),\n",
        "        nn.Linear(hidden_dim,hidden_dim),\n",
        "        nn.RELU(),\n",
        "        nn.Linear(hidden_dim,128),\n",
        "        nn.RELU(),\n",
        "        nn.Linear(128,action_size)\n",
        "    )\n",
        "    def forward(self,x):\n",
        "      return self.network(x);"
      ],
      "metadata": {
        "id": "X9zznUnI5Xtn"
      },
      "execution_count": null,
      "outputs": []
    },
    {
      "cell_type": "code",
      "source": [
        "@dataclass\n",
        "class DataCollector:\n",
        "  def __init__(self,max_samples:int=10000):\n",
        "    self.states=[]\n",
        "    self.actions=[]\n",
        "    self.rewards=[]\n",
        "    self.max_samples=max_samples\n",
        "\n",
        "  def add_sample(self,state:np.ndarray,action:np.ndarray,reward:float):\n",
        "    self.states.append(state.copy())\n",
        "    self.actions.append(action.copy())\n",
        "    self.rewards.append(reward)\n",
        "\n",
        "    if(len(self.states)>self.max_samples):\n",
        "      self.states.pop(0) #sliding window type\n",
        "      self.actions.pop(0)\n",
        "      self.rewards.pop(0)\n",
        "\n",
        "  def get_data(self,batch_size:int=32):\n",
        "    if(len(self.states)<batch_size):\n",
        "      return None,None,None\n",
        "\n",
        "    indices=random.sample(range(len(self.states)),batch_size)\n",
        "    batch_states=[self.states[i] for i in indices]\n",
        "    batch_actions=[self.actions[i] for i in indices]\n",
        "    batch_rewards=[self.rewards[i] for i in indices]\n",
        "\n",
        "    return(\n",
        "        torch.FloatTensor(batch_states),\n",
        "        torch.FloatTensor(batch_actions),\n",
        "        torch.FloatTensor(batch_rewards)\n",
        "    )\n",
        "\n",
        "  def clear(self):\n",
        "    self.states.clear()\n",
        "    self.actions.clear()\n",
        "    self.rewards.clear()"
      ],
      "metadata": {
        "id": "ouJYEqt9Z3yx"
      },
      "execution_count": null,
      "outputs": []
    },
    {
      "cell_type": "code",
      "source": [
        "@dataclass\n",
        "class RewardSystem:\n",
        "  def __init__(self):\n",
        "    self.prev_position=None\n",
        "    self.prev_distance=None\n",
        "  def calculate_reward(self,car:Car,env:Environment):\n",
        "    reward=0\n",
        "    if not env.is_collision(car.position):\n",
        "      reward += 1.0\n",
        "      speed_reward = min(car.speed / car.max_speed,1.0)*0.5 #speed reward\n",
        "      reward += speed_reward\n",
        "\n",
        "      distance_track=env.get_track_distance(car.position)\n",
        "      if distance_track < 20:\n",
        "        reward += 0.3\n",
        "      if distance_track > 40:\n",
        "        reward-=0.2\n",
        "    else:\n",
        "      reward = -10.0\n",
        "    if abs(car.speed) < 1.0:\n",
        "      reward -=0.1\n",
        "\n",
        "    return reward"
      ],
      "metadata": {
        "id": "HWRR5m3NJ27N"
      },
      "execution_count": null,
      "outputs": []
    }
  ]
}