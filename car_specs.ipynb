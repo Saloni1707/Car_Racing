{
  "nbformat": 4,
  "nbformat_minor": 0,
  "metadata": {
    "colab": {
      "provenance": [],
      "gpuType": "T4",
      "mount_file_id": "19b3-n6w5hfS_vLrLZsen1LwBguuF0b9A",
      "authorship_tag": "ABX9TyOw1XAyGA8BC/lT8zfvRNrn",
      "include_colab_link": true
    },
    "kernelspec": {
      "name": "python3",
      "display_name": "Python 3"
    },
    "language_info": {
      "name": "python"
    },
    "accelerator": "GPU"
  },
  "cells": [
    {
      "cell_type": "markdown",
      "metadata": {
        "id": "view-in-github",
        "colab_type": "text"
      },
      "source": [
        "<a href=\"https://colab.research.google.com/github/Saloni1707/Car_Racing/blob/main/car_specs.ipynb\" target=\"_parent\"><img src=\"https://colab.research.google.com/assets/colab-badge.svg\" alt=\"Open In Colab\"/></a>"
      ]
    },
    {
      "cell_type": "code",
      "execution_count": 6,
      "metadata": {
        "id": "CiQUkAYjyWpB"
      },
      "outputs": [],
      "source": [
        "import math\n",
        "import random\n",
        "from dataclasses import dataclass\n",
        "from typing import List,Tuple,Optional\n",
        "import numpy as np\n",
        "import matplotlib.pyplot as plt"
      ]
    },
    {
      "cell_type": "code",
      "source": [
        "#basic math\n",
        "@dataclass\n",
        "class Vector2D:\n",
        "  x:float\n",
        "  y:float\n",
        "  def __add__(self,other):\n",
        "    return Vector2D(self.x+other.x,self.y+other.y)\n",
        "  def __sub__(self,other):\n",
        "    return Vector2D(self.x-other.x,self.y-other.y)\n",
        "  def __mul__(self,scalar):\n",
        "    return Vector2D(self.x*scalar,self.y*scalar)\n",
        "  def magnitude(self):\n",
        "    return math.sqrt(self.x**2+self.y**2)\n",
        "  def normalize(self):\n",
        "    mag = self.magnitude()\n",
        "    if mag == 0:\n",
        "      return Vector2D(0,0)\n",
        "    return Vector2D(self.x/mag,self.y/mag)\n",
        "  def rotate(self,angle_rad:float):\n",
        "    cos_a=math.cos(angle_rad)\n",
        "    sin_a=math.sin(angle_rad)\n",
        "    return Vector2D(\n",
        "        self.x*cos_a-self.y*sin_a,\n",
        "        self.x*sin_a + self.y*cos_a\n",
        "    )\n",
        "    def to_array(self):\n",
        "      return np.array([self.x,self.y])\n",
        "print(\"Vector Math Test\")\n",
        "v1=Vector2D(1,0)\n",
        "v2=v1.rotate(math.pi/2)\n",
        "print(f\"Orginal:({v1.x:.2f},{v1.y:.2f})\")\n",
        "print(f\"Rotated:({v2.x:.2f},{v2.y:.2f})\")\n",
        "print(f\"Magnitude: {v1.magnitude():.2f}\")\n"
      ],
      "metadata": {
        "colab": {
          "base_uri": "https://localhost:8080/"
        },
        "id": "Xb8inS2ZM8Gz",
        "outputId": "9e1d945a-fd17-4e93-d8de-73afa5509233"
      },
      "execution_count": 7,
      "outputs": [
        {
          "output_type": "stream",
          "name": "stdout",
          "text": [
            "Vector Math Test\n",
            "Orginal:(1.00,0.00)\n",
            "Rotated:(0.00,1.00)\n",
            "Magnitude: 1.00\n"
          ]
        }
      ]
    },
    {
      "cell_type": "code",
      "source": [
        "#car physics here\n",
        "@dataclass\n",
        "class car:\n",
        "  def __init__(self,x:float,y:float,angle:float):\n",
        "    self.position=Vector2D(x,y)\n",
        "    self.angle=angle\n",
        "    self.velocity=Vector2D(0,0)\n",
        "    self.speed=0\n",
        "    self.angular_velocity=0\n",
        "    self.max_speed = 50.0 #pixels/second\n",
        "    self.max_reverse_speed=-20.0\n",
        "    self.acceleration=30.0\n",
        "    self.deceleration=50.0\n",
        "    self.turn_speed=3.0\n",
        "    self.width=20\n",
        "    self.length=40\n",
        "    self.sensor_ranges=[]\n",
        "\n",
        "  def update(self,dt:float,throttle:float,steering:float):\n",
        "    throttle=max(-1,min(1,throttle))\n",
        "    steering=max(-1,min(1,steering))\n",
        "    if throttle>0: #here based on throttle inc speed\n",
        "      self.speed+=self.acceleration*throttle*dt\n",
        "      self.speed=min(self.speed,self.max_speed)\n",
        "    elif throttle<0:\n",
        "      self.speed+=self.acceleration*throttle*dt\n",
        "      self.speed=max(self.speed,self.max_reverse_speed)\n",
        "    else:\n",
        "      if self.speed>0:\n",
        "        self.speed=max(0,self.speed-self.deceleration*dt)\n",
        "      else:\n",
        "        self.speed=min(0,self.speed+self.deceleration*dt)\n",
        "\n",
        "    if abs(self.speed) > 0.1:  # Only turn when moving\n",
        "        self.angular_velocity = steering * self.turn_speed * (self.speed / self.max_speed)\n",
        "        self.angle += self.angular_velocity * dt\n",
        "        self.angle = self.angle % (2 * math.pi)  # Keep angle in [0, 2π]\n",
        "    # Update position based on speed and angle\n",
        "    direction = Vector2D(math.cos(self.angle), math.sin(self.angle))\n",
        "    velocity = direction * self.speed\n",
        "    self.position = self.position + velocity * dt\n",
        "    self.velocity = velocity\n",
        "\n",
        "  def get_state(self):\n",
        "    return np.array([\n",
        "        self.position.x,self.position.y,\n",
        "        self.velocity.x,self.velocity.y,\n",
        "        self.angle,self.angular_velocity,\n",
        "        self.speed\n",
        "    ])\n",
        "  def reset(self,x:float,y:float,angle:float):\n",
        "    self.position=Vector2D(x,y)\n",
        "    self.angle=angle\n",
        "    self.velocity=Vector2D(0,0)\n",
        "    self.speed=0\n",
        "    self.angular_velocity=0\n",
        "\n",
        "print(\"Car Simulation\")\n",
        "my_car = car(0, 0, 0)\n",
        "print(f\"Initial State: {my_car.get_state()}\")\n",
        "for i in range(10):\n",
        "    my_car.update(dt=0.1, throttle=0.5, steering=0)  # Half throttle, no steering\n",
        "\n",
        "print(f\"After 1s straight: Position({my_car.position.x:.1f}, {my_car.position.y:.1f}), Speed: {my_car.speed:.1f}\")\n",
        "\n",
        "for i in range(10):\n",
        "    my_car.update(dt=0.1, throttle=0.5, steering=0.5)\n",
        "\n",
        "print(f\"After turning: Position({my_car.position.x:.1f}, {my_car.position.y:.1f}), Angle: {math.degrees(my_car.angle):.1f}°\")\n",
        "print()"
      ],
      "metadata": {
        "colab": {
          "base_uri": "https://localhost:8080/"
        },
        "id": "c4jUwVgFVBKv",
        "outputId": "27e1b5b2-2f01-402b-abdb-690244b046c6"
      },
      "execution_count": 8,
      "outputs": [
        {
          "output_type": "stream",
          "name": "stdout",
          "text": [
            "Car Simulation\n",
            "Initial State: [0 0 0 0 0 0 0]\n",
            "After 1s straight: Position(8.2, 0.0), Speed: 15.0\n",
            "After turning: Position(29.3, 8.5), Angle: 40.0°\n",
            "\n"
          ]
        }
      ]
    },
    {
      "cell_type": "code",
      "source": [
        "#Our environment\n",
        "@dataclass\n",
        "class Environment:\n",
        "  def __init__(self,width:int,height:int):\n",
        "    self.width=width\n",
        "    self.height=height\n",
        "    self.obstacles=[]\n",
        "    self.boundary=[]\n",
        "    self.create_track()\n",
        "\n",
        "  def create_track(self):\n",
        "    margin=50\n",
        "    self.boundary=[\n",
        "        {\"start\":Vector2D(0,0),\"end\":Vector2D(self.width,0)}, #outer boundary top wall\n",
        "        {\"start\":Vector2D(0,self.height),\"end\":Vector2D(self.width,self.height)}, #bottom wall\n",
        "        {\"start\":Vector2D(0,0),\"end\":Vector2D(0,self.height)},#left wall\n",
        "        {\"start\":Vector2D(self.width,0),\"end\":Vector2D(self.width,self.height)},#right wall\n",
        "\n",
        "        {'start': Vector2D(margin, margin), 'end': Vector2D(self.width-margin, margin)},\n",
        "        {'start': Vector2D(margin, self.height-margin), 'end': Vector2D(self.width-margin, self.height-margin)},\n",
        "        {'start': Vector2D(margin, margin), 'end': Vector2D(margin, self.height-margin)},\n",
        "        {'start': Vector2D(self.width-margin, margin), 'end': Vector2D(self.width-margin, self.height-margin)},\n",
        "\n",
        "    ]\n",
        "\n",
        "\n",
        "  def is_collision(self,position:Vector2D,car_width:float=20,car_length=40):\n",
        "    margin=max(car_width,car_length)/2\n",
        "    if(position.x<margin or position.x>self.width-margin or position.y<margin or position.y>self.height-margin):\n",
        "      return True\n",
        "    return False\n",
        "\n",
        "  def get_track_distance(self,position:Vector2D):\n",
        "    distances=[]\n",
        "    distances.append(position.x)\n",
        "    distances.append(self.width-position.x)\n",
        "    distances.append(position.y)\n",
        "    distances.append(self.height-position.y)\n",
        "    return min(distances)\n",
        "print(\"Test Environment\")\n",
        "env=Environment(width=800, height=600)\n",
        "test_pos=Vector2D(100,100)\n",
        "print(f\"Position ({test_pos.x}, {test_pos.y}):\")\n",
        "print(f\"Collision: {env.is_collision(test_pos)}\")\n",
        "print(f\"Distance to boundary: {env.get_track_distance(test_pos):.1f}\")\n",
        "print()"
      ],
      "metadata": {
        "colab": {
          "base_uri": "https://localhost:8080/"
        },
        "id": "Qw6hrSIgve_X",
        "outputId": "5cf6da22-4a3a-4c21-9db9-1d6dea827310"
      },
      "execution_count": 10,
      "outputs": [
        {
          "output_type": "stream",
          "name": "stdout",
          "text": [
            "Test Environment\n",
            "Position (100, 100):\n",
            "Collision: False\n",
            "Distance to boundary: 100.0\n",
            "\n"
          ]
        }
      ]
    },
    {
      "cell_type": "code",
      "source": [
        "import torch\n",
        "import torch.nn as nn\n",
        "import torch.optim as optim\n",
        "import numpy as np\n",
        "\n",
        "class steeringControl(nn.Module):\n",
        "  def __init__(self,input_size:int=7,hidden_size:int=64):\n",
        "    super(steeringControl,self).__init__()\n",
        "\n",
        "    self.network=nn.Sequential(\n",
        "        nn.Linear(input_size,hidden_size),\n",
        "        nn.ReLU(),\n",
        "        nn.Linear(hidden_size,hidden_size),\n",
        "        nn.ReLU(),\n",
        "        nn.Linear(hidden_size,32),\n",
        "        nn.ReLU(),\n",
        "        nn.Linear(32,2)\n",
        "    )\n",
        "\n",
        "  def forward(self,x):\n",
        "    output=self.network(x)\n",
        "    return torch.tanh(output)\n",
        "\n",
        "print(\"Neural Network Test\")\n",
        "device = torch.device(\"cuda\" if torch.cuda.is_available() else \"cpu\")\n",
        "print(device)\n",
        "model=steeringControl().to(device)\n",
        "\n",
        "test_state = torch.FloatTensor([100, 100, 10, 5, 0.5, 0.1, 15]).unsqueeze(0).to(device)\n",
        "with torch.no_grad():\n",
        "    output = model(test_state)\n",
        "    throttle, steering = output[0].cpu().numpy()\n",
        "    print(f\"Input state shape: {test_state.shape}\")\n",
        "    print(f\"Output - Throttle: {throttle:.3f}, Steering: {steering:.3f}\")"
      ],
      "metadata": {
        "colab": {
          "base_uri": "https://localhost:8080/"
        },
        "id": "V_FTE2jn4Px4",
        "outputId": "de553366-624f-46ed-8c29-b92a5cfdf838"
      },
      "execution_count": 4,
      "outputs": [
        {
          "output_type": "stream",
          "name": "stdout",
          "text": [
            "Neural Network Test\n",
            "cuda\n",
            "Input state shape: torch.Size([1, 7])\n",
            "Output - Throttle: -0.997, Steering: -0.310\n"
          ]
        }
      ]
    }
  ]
}